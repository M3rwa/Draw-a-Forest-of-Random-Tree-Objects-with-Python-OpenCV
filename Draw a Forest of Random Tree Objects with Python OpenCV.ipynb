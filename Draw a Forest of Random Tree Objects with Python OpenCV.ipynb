{
 "cells": [
  {
   "cell_type": "code",
   "execution_count": 2,
   "id": "1590fe4b",
   "metadata": {},
   "outputs": [],
   "source": [
    "import cv2 as cv\n",
    "import numpy as np\n",
    "import matplotlib.pyplot as plt"
   ]
  },
  {
   "cell_type": "code",
   "execution_count": 6,
   "id": "2fbbab13",
   "metadata": {},
   "outputs": [
    {
     "data": {
      "text/plain": [
       "array([[[  0, 255, 255],\n",
       "        [  0, 255, 255],\n",
       "        [  0, 255, 255],\n",
       "        ...,\n",
       "        [  0, 255, 255],\n",
       "        [  0, 255, 255],\n",
       "        [  0, 255, 255]],\n",
       "\n",
       "       [[  0, 255, 255],\n",
       "        [  0, 255, 255],\n",
       "        [  0, 255, 255],\n",
       "        ...,\n",
       "        [  0, 255, 255],\n",
       "        [  0, 255, 255],\n",
       "        [  0, 255, 255]],\n",
       "\n",
       "       [[  0, 255, 255],\n",
       "        [  0, 255, 255],\n",
       "        [  0, 255, 255],\n",
       "        ...,\n",
       "        [  0, 255, 255],\n",
       "        [  0, 255, 255],\n",
       "        [  0, 255, 255]],\n",
       "\n",
       "       ...,\n",
       "\n",
       "       [[ 75, 200,  70],\n",
       "        [ 75, 200,  70],\n",
       "        [ 75, 200,  70],\n",
       "        ...,\n",
       "        [ 75, 200,  70],\n",
       "        [ 75, 200,  70],\n",
       "        [ 75, 200,  70]],\n",
       "\n",
       "       [[ 75, 200,  70],\n",
       "        [ 75, 200,  70],\n",
       "        [ 75, 200,  70],\n",
       "        ...,\n",
       "        [ 75, 200,  70],\n",
       "        [ 75, 200,  70],\n",
       "        [ 75, 200,  70]],\n",
       "\n",
       "       [[ 75, 200,  70],\n",
       "        [ 75, 200,  70],\n",
       "        [ 75, 200,  70],\n",
       "        ...,\n",
       "        [ 75, 200,  70],\n",
       "        [ 75, 200,  70],\n",
       "        [ 75, 200,  70]]], dtype=uint8)"
      ]
     },
     "execution_count": 6,
     "metadata": {},
     "output_type": "execute_result"
    }
   ],
   "source": [
    "#1-Background\n",
    "img = np.zeros((600, 900, 3), dtype= np.uint8)                                         \n",
    "cv.rectangle(img, (0,0), (900,500) ,(0,255,255), -1)\n",
    "cv.rectangle(img, (0,500), (900,600) ,(75,200,70), -1)\n",
    "#2-Sun\n",
    "cv.circle(img, (200,150), 70,(255,255,0), -1)\n",
    "cv.circle(img, (200,150), 90,(255,255,0), 13)\n",
    "#3-Tree\n",
    "cv.line(img, (710,500), (710,420), (111, 78, 55), 15)\n",
    "triangle = np.array([[640,460],[780,460],[710,200]],dtype = np.int32)\n",
    "cv.fillPoly(img, [triangle], (75,200,0))"
   ]
  },
  {
   "cell_type": "code",
   "execution_count": 10,
   "id": "1328d2fb",
   "metadata": {},
   "outputs": [
    {
     "ename": "SystemError",
     "evalue": "<built-in function destroyAllWindows> returned NULL without setting an error",
     "output_type": "error",
     "traceback": [
      "\u001b[1;31m---------------------------------------------------------------------------\u001b[0m",
      "\u001b[1;31mSystemError\u001b[0m                               Traceback (most recent call last)",
      "\u001b[1;32m~\\AppData\\Local\\Temp\\ipykernel_22296\\4281505625.py\u001b[0m in \u001b[0;36m<module>\u001b[1;34m\u001b[0m\n\u001b[0;32m      5\u001b[0m \u001b[0mcv\u001b[0m\u001b[1;33m.\u001b[0m\u001b[0mimshow\u001b[0m\u001b[1;33m(\u001b[0m\u001b[1;34m\"image\"\u001b[0m\u001b[1;33m,\u001b[0m\u001b[0mimg\u001b[0m\u001b[1;33m)\u001b[0m\u001b[1;33m\u001b[0m\u001b[1;33m\u001b[0m\u001b[0m\n\u001b[0;32m      6\u001b[0m \u001b[0mcv\u001b[0m\u001b[1;33m.\u001b[0m\u001b[0mwaitKey\u001b[0m\u001b[1;33m(\u001b[0m\u001b[1;36m0\u001b[0m\u001b[1;33m)\u001b[0m\u001b[1;33m\u001b[0m\u001b[1;33m\u001b[0m\u001b[0m\n\u001b[1;32m----> 7\u001b[1;33m \u001b[0mcv\u001b[0m\u001b[1;33m.\u001b[0m\u001b[0mdestroyAllWindows\u001b[0m\u001b[1;33m(\u001b[0m\u001b[1;36m1\u001b[0m\u001b[1;33m)\u001b[0m\u001b[1;33m\u001b[0m\u001b[1;33m\u001b[0m\u001b[0m\n\u001b[0m",
      "\u001b[1;31mSystemError\u001b[0m: <built-in function destroyAllWindows> returned NULL without setting an error"
     ]
    },
    {
     "data": {
      "image/png": "[encoded data removed]",
      "text/plain": [
       "<Figure size 640x480 with 1 Axes>"
      ]
     },
     "metadata": {},
     "output_type": "display_data"
    }
   ],
   "source": [
    "cv.imwrite('tree.png',img)\n",
    "plt.title(\"Tree image\")\n",
    "plt.xticks([])\n",
    "plt.yticks([])\n",
    "cv.imshow(\"image\",img)\n",
    "cv.waitKey(0)\n",
    "cv.destroyAllWindows(1)"
   ]
  },
  {
   "cell_type": "code",
   "execution_count": null,
   "id": "f45d6305",
   "metadata": {},
   "outputs": [],
   "source": []
  }
 ],
 "metadata": {
  "kernelspec": {
   "display_name": "Python 3 (ipykernel)",
   "language": "python",
   "name": "python3"
  },
  "language_info": {
   "codemirror_mode": {
    "name": "ipython",
    "version": 3
   },
   "file_extension": ".py",
   "mimetype": "text/x-python",
   "name": "python",
   "nbconvert_exporter": "python",
   "pygments_lexer": "ipython3",
   "version": "3.9.13"
  }
 },
 "nbformat": 4,
 "nbformat_minor": 5
}
